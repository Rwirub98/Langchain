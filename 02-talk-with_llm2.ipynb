{
 "cells": [
  {
   "cell_type": "code",
   "execution_count": 7,
   "id": "e81ccea4",
   "metadata": {},
   "outputs": [],
   "source": [
    "import os\n",
    "from dotenv import load_dotenv, find_dotenv\n",
    "_ = load_dotenv(find_dotenv())\n",
    "openai_api_key=os.environ[\"OPENAI_API_KEY\"]"
   ]
  },
  {
   "cell_type": "markdown",
   "id": "87b3bdfb",
   "metadata": {},
   "source": [
    "## Completion model"
   ]
  },
  {
   "cell_type": "code",
   "execution_count": 2,
   "id": "b1d34d35",
   "metadata": {},
   "outputs": [],
   "source": [
    "\n",
    "from langchain_openai import OpenAI\n",
    "llmModel= OpenAI()"
   ]
  },
  {
   "cell_type": "markdown",
   "id": "875606dc",
   "metadata": {},
   "source": [
    "# chat completion model\n"
   ]
  },
  {
   "cell_type": "code",
   "execution_count": 3,
   "id": "d45ca4a3",
   "metadata": {},
   "outputs": [],
   "source": [
    "from langchain_openai import ChatOpenAI\n",
    "chatModel = ChatOpenAI(model=\"gpt-3.5-turbo-0125\")"
   ]
  },
  {
   "cell_type": "markdown",
   "id": "60223cda",
   "metadata": {},
   "source": [
    "# prompts and prompts Templates\n"
   ]
  },
  {
   "cell_type": "code",
   "execution_count": 4,
   "id": "5b13a62f",
   "metadata": {},
   "outputs": [
    {
     "name": "stdout",
     "output_type": "stream",
     "text": [
      "\n",
      "\n",
      "One curious story about the Kennedy family involves a supposed curse that has plagued the family for generations. It is said that the curse originated with the family's legendary patriarch, Joseph P. Kennedy, who amassed a fortune through questionable means and was rumored to have made deals with the devil.\n",
      "\n",
      "The curse first manifested in 1941, when Joseph's eldest son, Joseph Jr., died in a plane crash during World War II. This was followed by the death of his daughter Kathleen in a plane crash in 1948. Then, in 1963, President John F. Kennedy was assassinated in Dallas, Texas, followed by the assassination of his brother, Robert F. Kennedy, in 1968.\n",
      "\n",
      "The curse continued to haunt the family in the years to come. In 1999, John F. Kennedy Jr. died in a plane crash, along with his wife and sister-in-law. In 2019, Robert F. Kennedy's granddaughter, Saoirse Kennedy Hill, died of a suspected drug overdose at the age of 22.\n",
      "\n",
      "The curse has also affected the family in other ways. Many members have struggled with addiction and mental health issues, and some have been involved in scandals and controversies. Some even believe that the curse extends to those who marry into the\n"
     ]
    }
   ],
   "source": [
    "# This is for completions model\n",
    "from langchain_core.prompts import PromptTemplate\n",
    "prompt_template = PromptTemplate.from_template(\n",
    "  \"tell me a {adjective} story about {topic}\"\n",
    ")\n",
    "llmModelPrompt = prompt_template.format(\n",
    "  adjective = \"curious\",\n",
    "  topic=\"the kennedy family\"\n",
    ")\n",
    "res=llmModel.invoke(llmModelPrompt)\n",
    "print (res)"
   ]
  },
  {
   "cell_type": "markdown",
   "id": "d2f8138a",
   "metadata": {},
   "source": [
    "## Chat completion model"
   ]
  },
  {
   "cell_type": "code",
   "execution_count": 11,
   "id": "d6897eaa",
   "metadata": {},
   "outputs": [
    {
     "name": "stdout",
     "output_type": "stream",
     "text": [
      "Joseph P. Kennedy, Sr. had a total of 28 grandchildren. His children, Joseph Jr., John F. Kennedy, Rosemary, Kathleen, Eunice, Patricia, Robert F. Kennedy, and Jean, went on to have large families of their own, contributing to the Kennedy family's extensive network of descendants.\n"
     ]
    }
   ],
   "source": [
    "from langchain_core.prompts import ChatPromptTemplate\n",
    "chat_template = ChatPromptTemplate.from_messages(\n",
    "  [\n",
    "    (\"system\", \"you are an {profession} expert on {topic}.\"),\n",
    "    (\"human\", \"hello, Mr. {profession}, can you please answer a quesiton?\"),\n",
    "    (\"ai\",\"Sure!\"),\n",
    "    (\"human\",\"{user_input}\"),\n",
    "  ]\n",
    ")\n",
    "messages= chat_template.format_messages(\n",
    "  profession=\"Historian\",\n",
    "  topic=\"the kennedy family\",\n",
    "  user_input=\"how many grnadchildren had joseph p. kennedy?\"\n",
    ")\n",
    "res = chatModel.invoke(messages)\n",
    "print (res.content)"
   ]
  },
  {
   "cell_type": "code",
   "execution_count": 15,
   "id": "e0df880c",
   "metadata": {},
   "outputs": [],
   "source": [
    "from langchain_core.prompts import FewShotChatMessagePromptTemplate\n",
    "examples=[\n",
    "  {\"input\":\"hi\",\"output\":\"hola\"},\n",
    "  {\"input\":\"bye!\",\"output\":\"!adios\"},\n",
    "]\n",
    "example_prompt = ChatPromptTemplate.from_messages(\n",
    "  [\n",
    "    (\"human\",\"{input}\"),\n",
    "    (\"ai\",\"{output}\"),\n",
    "   ]\n",
    ")\n",
    "few_shot_prompt = FewShotChatMessagePromptTemplate(\n",
    "  example_prompt=example_prompt,\n",
    "  examples=examples,\n",
    ")\n",
    "\n",
    "final_prompt  = ChatPromptTemplate.from_messages(\n",
    "  [\n",
    "    (\"system\",\"you are an english-spanish translator.\"),\n",
    "    few_shot_prompt,\n",
    "    (\"human\",\"{input}\"),\n",
    "  ]\n",
    ")"
   ]
  },
  {
   "cell_type": "markdown",
   "id": "d23a43e5",
   "metadata": {},
   "source": [
    "## chain"
   ]
  },
  {
   "cell_type": "code",
   "execution_count": 28,
   "id": "b3df2d22",
   "metadata": {},
   "outputs": [
    {
     "name": "stdout",
     "output_type": "stream",
     "text": [
      "Khublei! Ka dei man ko?\n"
     ]
    }
   ],
   "source": [
    "from langchain_core.prompts import FewShotChatMessagePromptTemplate\n",
    "examples=[\n",
    "  {\"input\":\"hi\",\"output\":\"hola\"},\n",
    "  {\"input\":\"bye!\",\"output\":\"!adios\"},\n",
    "]\n",
    "example_prompt = ChatPromptTemplate.from_messages(\n",
    "  [\n",
    "    (\"human\",\"{input}\"),\n",
    "    (\"ai\",\"{output}\"),\n",
    "   ]\n",
    ")\n",
    "few_shot_prompt = FewShotChatMessagePromptTemplate(\n",
    "  example_prompt=example_prompt,\n",
    "  examples=examples,\n",
    ")\n",
    "\n",
    "final_prompt  = ChatPromptTemplate.from_messages(\n",
    "  [\n",
    "    (\"system\",\"you are an english-khasi translator.\"),\n",
    "    few_shot_prompt,\n",
    "    (\"human\",\"{input}\"),\n",
    "  ]\n",
    ")\n",
    "chain=final_prompt| chatModel\n",
    "res=chain.invoke({\"input\":\"how are you?\"})\n",
    "print(res.content)"
   ]
  },
  {
   "cell_type": "markdown",
   "id": "8d92cd3f",
   "metadata": {},
   "source": [
    "## output parser"
   ]
  },
  {
   "cell_type": "code",
   "execution_count": null,
   "id": "5d414173",
   "metadata": {},
   "outputs": [],
   "source": [
    "from langchain_openai import OpenAI\n",
    "llmModel= OpenAI()"
   ]
  },
  {
   "cell_type": "code",
   "execution_count": 29,
   "id": "df58c9e5",
   "metadata": {},
   "outputs": [],
   "source": [
    "from langchain_openai import ChatOpenAI\n",
    "chatModel = ChatOpenAI(model=\"gpt-3.5-turbo-0125\")"
   ]
  },
  {
   "cell_type": "code",
   "execution_count": 31,
   "id": "35afc2ca",
   "metadata": {},
   "outputs": [],
   "source": [
    "from langchain_core.prompts import PromptTemplate\n",
    "from langchain.output_parsers.json import SimpleJsonOutputParser\n",
    "\n",
    "json_prompt= PromptTemplate.from_template(\n",
    "  \"Return a JSON object with an `answer` key that answers the following question:{question}\"\n",
    ")\n",
    "json_parser=SimpleJsonOutputParser()\n",
    "chain = json_prompt | llmModel | json_parser"
   ]
  },
  {
   "cell_type": "code",
   "execution_count": 33,
   "id": "b695b6cf",
   "metadata": {},
   "outputs": [],
   "source": [
    "res=chain.invoke({\"question\":\"who is phoolan devi?\"})\n"
   ]
  },
  {
   "cell_type": "code",
   "execution_count": 34,
   "id": "16fe1f0e",
   "metadata": {},
   "outputs": [
    {
     "data": {
      "text/plain": [
       "{'answer': 'Phoolan Devi, also known as \"Bandit Queen\", was an Indian bandit and politician. She was born into a low-caste family and faced poverty and abuse before turning to a life of crime. She was notorious for leading a gang that targeted upper-caste men who had wronged her. After surrendering to the authorities, she served 11 years in prison before becoming a member of parliament. She was assassinated in 2001.'}"
      ]
     },
     "execution_count": 34,
     "metadata": {},
     "output_type": "execute_result"
    }
   ],
   "source": [
    "res"
   ]
  },
  {
   "cell_type": "code",
   "execution_count": 35,
   "id": "e4193346",
   "metadata": {},
   "outputs": [
    {
     "data": {
      "text/plain": [
       "dict"
      ]
     },
     "execution_count": 35,
     "metadata": {},
     "output_type": "execute_result"
    }
   ],
   "source": [
    "type(res)"
   ]
  },
  {
   "cell_type": "markdown",
   "id": "a7863ad1",
   "metadata": {},
   "source": [
    "## pydantic function "
   ]
  },
  {
   "cell_type": "markdown",
   "id": "9bd12d6a",
   "metadata": {},
   "source": [
    "it more advanced then the previous one but im not bale to understand when sir teaches about laigchain expression ill start learning."
   ]
  }
 ],
 "metadata": {
  "kernelspec": {
   "display_name": "llmapp",
   "language": "python",
   "name": "python3"
  },
  "language_info": {
   "codemirror_mode": {
    "name": "ipython",
    "version": 3
   },
   "file_extension": ".py",
   "mimetype": "text/x-python",
   "name": "python",
   "nbconvert_exporter": "python",
   "pygments_lexer": "ipython3",
   "version": "3.11.13"
  }
 },
 "nbformat": 4,
 "nbformat_minor": 5
}
