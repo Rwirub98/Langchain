{
 "cells": [
  {
   "cell_type": "code",
   "execution_count": 1,
   "id": "966108e8",
   "metadata": {},
   "outputs": [],
   "source": [
    "import os\n",
    "from dotenv import load_dotenv, find_dotenv\n",
    "_ = load_dotenv(find_dotenv())\n",
    "openai_api_key=os.environ[\"OPENAI_API_KEY\"]"
   ]
  },
  {
   "cell_type": "code",
   "execution_count": 3,
   "id": "b1a2584e",
   "metadata": {},
   "outputs": [],
   "source": [
    "from langchain_community.vectorstores import FAISS\n",
    "from langchain_openai import OpenAIEmbeddings\n",
    "from langchain_text_splitters import CharacterTextSplitter\n",
    "from langchain_community.document_loaders import TextLoader\n"
   ]
  },
  {
   "cell_type": "code",
   "execution_count": 4,
   "id": "64cd610d",
   "metadata": {},
   "outputs": [],
   "source": [
    "loader = TextLoader(\"data/Indian politics is an intricate tap.txt\")\n",
    "loaded_doc = loader.load()"
   ]
  },
  {
   "cell_type": "code",
   "execution_count": 5,
   "id": "82ee65f2",
   "metadata": {},
   "outputs": [
    {
     "name": "stderr",
     "output_type": "stream",
     "text": [
      "Created a chunk of size 1190, which is longer than the specified 200\n",
      "Created a chunk of size 805, which is longer than the specified 200\n",
      "Created a chunk of size 766, which is longer than the specified 200\n"
     ]
    }
   ],
   "source": [
    "text_splitter = CharacterTextSplitter(chunk_size=200, chunk_overlap=0)\n",
    "chunks_of_text = text_splitter.split_documents(loaded_doc)"
   ]
  },
  {
   "cell_type": "code",
   "execution_count": 6,
   "id": "e7243491",
   "metadata": {},
   "outputs": [
    {
     "data": {
      "text/plain": [
       "[Document(metadata={'source': 'data/Indian politics is an intricate tap.txt'}, page_content='Indian politics is an intricate tapestry where tradition and modernity constantly collide, evolve, and reshape the nation’s destiny. At its core lies the belief in the sovereignty of the people, as enshrined in the Constitution, which came into force on 26th January 1950, making India a sovereign, socialist, secular, democratic republic. The political sphere is shaped by a unique combination of grassroots mobilization, federal dynamics, and the strategic role of central leadership. Villages, towns, and cities each contribute to the political pulse of the nation, with the Panchayati Raj system empowering local governance and urban municipal bodies handling the complex needs of growing cities. Yet, while decentralization aims to strengthen democracy at the ground level, political patronage, corruption, and bureaucratic inefficiency often limit its effectiveness. Caste remains a deeply influential factor, particularly in rural politics, shaping alliances, candidate selection, and voting patterns, even as India aspires to rise above identity-based divisions. Religion too plays a prominent role, with secularism frequently being reinterpreted according to the political climate.'),\n",
       " Document(metadata={'source': 'data/Indian politics is an intricate tap.txt'}, page_content='The country’s political narrative has been punctuated by landmark electoral contests and transformative policies. The first few decades after independence were dominated by the Indian National Congress under leaders like Jawaharlal Nehru, Lal Bahadur Shastri, and Indira Gandhi, who oversaw nation-building, wars, and economic planning. The 1975–77 Emergency marked a turning point, highlighting the fragility of democratic freedoms. The late 20th century saw coalition politics emerge, with regional parties like DMK, AIADMK, TDP, SP, BSP, and TMC shaping national governments. In recent years, the Bharatiya Janata Party, under leaders like Atal Bihari Vajpayee and Narendra Modi, has redefined political discourse with a strong emphasis on nationalism, economic development, and centralized leadership.'),\n",
       " Document(metadata={'source': 'data/Indian politics is an intricate tap.txt'}, page_content='Political campaigning in India is a spectacle—blending local festivals, emotional appeals, promises of welfare schemes, and now, an increasingly digital strategy leveraging social media platforms, targeted advertisements, and real-time voter engagement. While such tools increase outreach, they also raise concerns about misinformation, online polarization, and the erosion of nuanced debate. India’s judiciary, Election Commission, and media are often described as pillars of democracy, yet they too face accusations of bias and political pressure. Issues like unemployment, farmer distress, women’s safety, climate change, and healthcare access dominate political promises, but their resolution often falls short amid shifting priorities and political maneuvering.'),\n",
       " Document(metadata={'source': 'data/Indian politics is an intricate tap.txt'}, page_content='In the international arena, Indian politics is influenced by the country’s growing role as a global power, balancing relations with the United States, China, Russia, and neighboring South Asian countries, while also asserting leadership in the Global South. Domestic politics often intertwine with foreign policy, particularly on issues like border disputes, trade agreements, and diaspora engagement. As India moves further into the 21st century, the political journey remains unpredictable—a constant tug-of-war between progressive aspirations and entrenched systems, between the urge to modernize and the pull of traditional loyalties. It is this very complexity, with its chaos and contradictions, that makes Indian politics not only a subject of study but also a living, breathing drama in which every citizen is both a participant and an observer.')]"
      ]
     },
     "execution_count": 6,
     "metadata": {},
     "output_type": "execute_result"
    }
   ],
   "source": [
    "chunks_of_text"
   ]
  },
  {
   "cell_type": "code",
   "execution_count": 8,
   "id": "b9a9304d",
   "metadata": {},
   "outputs": [],
   "source": [
    "embeddings = OpenAIEmbeddings()\n",
    "vector_db = FAISS.from_documents(chunks_of_text,embeddings)"
   ]
  },
  {
   "cell_type": "code",
   "execution_count": 9,
   "id": "705a342e",
   "metadata": {},
   "outputs": [
    {
     "data": {
      "text/plain": [
       "<langchain_community.vectorstores.faiss.FAISS at 0x21f866f79d0>"
      ]
     },
     "execution_count": 9,
     "metadata": {},
     "output_type": "execute_result"
    }
   ],
   "source": [
    "vector_db"
   ]
  },
  {
   "cell_type": "code",
   "execution_count": 10,
   "id": "65f452fb",
   "metadata": {},
   "outputs": [],
   "source": [
    "retriever=vector_db.as_retriever()"
   ]
  },
  {
   "cell_type": "code",
   "execution_count": 12,
   "id": "587e50c2",
   "metadata": {},
   "outputs": [
    {
     "data": {
      "text/plain": [
       "[Document(metadata={'source': 'data/Indian politics is an intricate tap.txt'}, page_content='Indian politics is an intricate tapestry where tradition and modernity constantly collide, evolve, and reshape the nation’s destiny. At its core lies the belief in the sovereignty of the people, as enshrined in the Constitution, which came into force on 26th January 1950, making India a sovereign, socialist, secular, democratic republic. The political sphere is shaped by a unique combination of grassroots mobilization, federal dynamics, and the strategic role of central leadership. Villages, towns, and cities each contribute to the political pulse of the nation, with the Panchayati Raj system empowering local governance and urban municipal bodies handling the complex needs of growing cities. Yet, while decentralization aims to strengthen democracy at the ground level, political patronage, corruption, and bureaucratic inefficiency often limit its effectiveness. Caste remains a deeply influential factor, particularly in rural politics, shaping alliances, candidate selection, and voting patterns, even as India aspires to rise above identity-based divisions. Religion too plays a prominent role, with secularism frequently being reinterpreted according to the political climate.'),\n",
       " Document(metadata={'source': 'data/Indian politics is an intricate tap.txt'}, page_content='Political campaigning in India is a spectacle—blending local festivals, emotional appeals, promises of welfare schemes, and now, an increasingly digital strategy leveraging social media platforms, targeted advertisements, and real-time voter engagement. While such tools increase outreach, they also raise concerns about misinformation, online polarization, and the erosion of nuanced debate. India’s judiciary, Election Commission, and media are often described as pillars of democracy, yet they too face accusations of bias and political pressure. Issues like unemployment, farmer distress, women’s safety, climate change, and healthcare access dominate political promises, but their resolution often falls short amid shifting priorities and political maneuvering.'),\n",
       " Document(metadata={'source': 'data/Indian politics is an intricate tap.txt'}, page_content='The country’s political narrative has been punctuated by landmark electoral contests and transformative policies. The first few decades after independence were dominated by the Indian National Congress under leaders like Jawaharlal Nehru, Lal Bahadur Shastri, and Indira Gandhi, who oversaw nation-building, wars, and economic planning. The 1975–77 Emergency marked a turning point, highlighting the fragility of democratic freedoms. The late 20th century saw coalition politics emerge, with regional parties like DMK, AIADMK, TDP, SP, BSP, and TMC shaping national governments. In recent years, the Bharatiya Janata Party, under leaders like Atal Bihari Vajpayee and Narendra Modi, has redefined political discourse with a strong emphasis on nationalism, economic development, and centralized leadership.'),\n",
       " Document(metadata={'source': 'data/Indian politics is an intricate tap.txt'}, page_content='In the international arena, Indian politics is influenced by the country’s growing role as a global power, balancing relations with the United States, China, Russia, and neighboring South Asian countries, while also asserting leadership in the Global South. Domestic politics often intertwine with foreign policy, particularly on issues like border disputes, trade agreements, and diaspora engagement. As India moves further into the 21st century, the political journey remains unpredictable—a constant tug-of-war between progressive aspirations and entrenched systems, between the urge to modernize and the pull of traditional loyalties. It is this very complexity, with its chaos and contradictions, that makes Indian politics not only a subject of study but also a living, breathing drama in which every citizen is both a participant and an observer.')]"
      ]
     },
     "execution_count": 12,
     "metadata": {},
     "output_type": "execute_result"
    }
   ],
   "source": [
    "res=retriever.invoke(\"What role do caste and religion play in shaping political alliances and voting patterns in India, as described in the passage?\")\n",
    "res"
   ]
  },
  {
   "cell_type": "markdown",
   "id": "ca8e3836",
   "metadata": {},
   "source": [
    "## simple use with LCEL"
   ]
  },
  {
   "cell_type": "code",
   "execution_count": null,
   "id": "70582d2a",
   "metadata": {},
   "outputs": [],
   "source": []
  }
 ],
 "metadata": {
  "kernelspec": {
   "display_name": "llmapp",
   "language": "python",
   "name": "python3"
  },
  "language_info": {
   "codemirror_mode": {
    "name": "ipython",
    "version": 3
   },
   "file_extension": ".py",
   "mimetype": "text/x-python",
   "name": "python",
   "nbconvert_exporter": "python",
   "pygments_lexer": "ipython3",
   "version": "3.11.13"
  }
 },
 "nbformat": 4,
 "nbformat_minor": 5
}
