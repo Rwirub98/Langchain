{
 "cells": [
  {
   "cell_type": "code",
   "execution_count": 1,
   "id": "988abcf8",
   "metadata": {},
   "outputs": [],
   "source": [
    "import os\n",
    "from dotenv import load_dotenv, find_dotenv\n",
    "_ = load_dotenv(find_dotenv())\n",
    "openai_api_key=os.environ[\"OPENAI_API_KEY\"]\n",
    "# initialise my api first "
   ]
  },
  {
   "cell_type": "code",
   "execution_count": 2,
   "id": "9127e5f1",
   "metadata": {},
   "outputs": [],
   "source": [
    "from langchain_openai import ChatOpenAI\n",
    "chatModel = ChatOpenAI(model=\"gpt-3.5-turbo-0125\")"
   ]
  },
  {
   "cell_type": "code",
   "execution_count": 3,
   "id": "a17f2996",
   "metadata": {},
   "outputs": [
    {
     "name": "stdout",
     "output_type": "stream",
     "text": [
      "It seems like you may have mistyped or misspelled the term \"rwirub.\" I'm not sure what you are referring to. Could you please provide more context or clarify your question so I can assist you better?\n"
     ]
    }
   ],
   "source": [
    "messages=[\n",
    "(\"system\", \"you are an helpful assistant.\"),\n",
    "(\"human\",\"tell me about rwirub\"),\n",
    "]\n",
    "response = chatModel.invoke(messages)\n",
    "print(response.content)"
   ]
  },
  {
   "cell_type": "markdown",
   "id": "3c94d0bc",
   "metadata": {},
   "source": [
    "## Data_loader\n"
   ]
  },
  {
   "cell_type": "code",
   "execution_count": 1,
   "id": "398ce374",
   "metadata": {},
   "outputs": [],
   "source": [
    "#text laoding\n",
    "from langchain_community.document_loaders import TextLoader\n",
    "loader=TextLoader(\"data/rwi.txt\")\n",
    "loaded_data=loader.load()"
   ]
  },
  {
   "cell_type": "code",
   "execution_count": null,
   "id": "e48c9411",
   "metadata": {},
   "outputs": [
    {
     "data": {
      "text/plain": [
       "[Document(metadata={'source': 'data/rwi.txt'}, page_content='About Me\\nHi, I’m Rwirub Swargiary. I’m a passionate full-stack developer with strong skills in Java, Python, JavaScript, and C. I enjoy crafting user-friendly web and app experiences, and I’m currently focusing on deepening my knowledge in MongoDB and Data Structures & Algorithms.\\n\\nI’ve built various projects — from interactive games like a Snake game and number guessing game to practical apps like a to-do list — and I’m working on more complex ideas such as IT company landing pages and coupon-swapping platforms.\\n\\nWhile I aspire to be a backend expert, I also have a strong passion for frontend development, blending both worlds to deliver complete solutions. I’m also exploring generative AI tools like LangChain and LangGraph.\\n\\nOutside coding, I’d describe myself as dedicated, a bit silly, easily distracted, but always eager to learn and create something new.\\n\\n')]"
      ]
     },
     "execution_count": 5,
     "metadata": {},
     "output_type": "execute_result"
    }
   ],
   "source": [
    "loaded_data"
   ]
  },
  {
   "cell_type": "markdown",
   "id": "e8b3e6a3",
   "metadata": {},
   "source": [
    "## csv loader"
   ]
  },
  {
   "cell_type": "code",
   "execution_count": 7,
   "id": "75e8cbb7",
   "metadata": {},
   "outputs": [
    {
     "data": {
      "text/plain": [
       "[Document(metadata={'source': 'data/sample.csv', 'row': 0}, page_content='id: 1\\nname: Alice\\nemail: alice@example.com\\nscore: 92'),\n",
       " Document(metadata={'source': 'data/sample.csv', 'row': 1}, page_content='id: 2\\nname: Bob\\nemail: bob@example.com\\nscore: 85'),\n",
       " Document(metadata={'source': 'data/sample.csv', 'row': 2}, page_content='id: 3\\nname: Carol\\nemail: carol@example.com\\nscore: 78')]"
      ]
     },
     "execution_count": 7,
     "metadata": {},
     "output_type": "execute_result"
    }
   ],
   "source": [
    "from langchain_community.document_loaders import CSVLoader\n",
    "loader=CSVLoader(\"data/sample.csv\")\n",
    "loaded_data=loader.load()\n",
    "loaded_data"
   ]
  },
  {
   "cell_type": "markdown",
   "id": "6e43fddf",
   "metadata": {},
   "source": [
    "## html loader"
   ]
  },
  {
   "cell_type": "code",
   "execution_count": 18,
   "id": "70944141",
   "metadata": {},
   "outputs": [
    {
     "data": {
      "text/plain": [
       "[Document(metadata={'source': 'data/index.html'}, page_content='')]"
      ]
     },
     "execution_count": 18,
     "metadata": {},
     "output_type": "execute_result"
    }
   ],
   "source": [
    "from langchain_community.document_loaders import UnstructuredHTMLLoader\n",
    "loader=UnstructuredHTMLLoader(\"data/index.html\")\n",
    "loaded_data=loader.load()\n",
    "loaded_data"
   ]
  },
  {
   "cell_type": "code",
   "execution_count": 22,
   "id": "b1515f8f",
   "metadata": {},
   "outputs": [
    {
     "data": {
      "text/plain": [
       "[Document(metadata={'source': 'data/Bigdata.pdf', 'page': 0}, page_content=\"Assam Kaziranga University\\nEven-End Semester Examination : May - June 2024\\nSemester: 6'hProgramme: B.Tech\\n''' Course Code: ET13110\\nTime: 3 hours\\nBranch/Stream: CSE\\nCourse Name: Bigdata\\nTotal Marks: 70\\nPART - A: Question no. I is compulsory and carries l0 marks.\\nPART-B: Answer any 4 questions from question no.2 to 6. Each question carries 15 marks.\\nPART - A\\nl. Answer the following: 1 x l0 : l0\\ni) What is a data lake?\\nii) What is a JDBC driver in Hive?\\niii) Which of the following stores metadata?\\na) Data Node\\nb) Name Node\\nc) Secondary datanode\\nd)Hadoop cluster\\niv) HDFS performs replication, although it results in data redundancy?\\na) TRUE\\nb) FALSE\\nv) Which default database is used by Hive for its meta store?\\nvi) What happens if number of reducers is 0 in Hadoop?\\na) Map-only job take place\\nb) Reducer output will be the final output\\nc) Reduce-only job take place\\nd)RecordWritter will execute.\\nvii) which kind of keys (CONSTRAINTS) Hive does not have?\\na) Primary Keys\\nb) Foreign Keys\\nc) Unique Keys\\nd) All of the above\\nviii) By default, when a database is dropped in Hive-\\na) The tables are also deleted\\nb) The directory is deleted if there are no tables\"),\n",
       " Document(metadata={'source': 'data/Bigdata.pdf', 'page': 1}, page_content='c) The HDFS blocks are formatted\\nd) Hive meta store will be deleted.\\nix) What is grunt shell? Where it is used?\\n- x) Which of the following will run pig in local mode?\\na) $ pig -x local\\nb) $ pig -x 1sz,_local\\nc) $ pie\\nd) None of the mentioned\\nPART -B2. Answer the following:\\na) What are the 4 V\\'s of Bigdata? Explain.\\nb) (i) What is Hadoop? Name the components of a Hadoop Application. (ii) Explain the master -\\nslave architecture of Map-reduce.\\n5+5+5 : 15\\n3. Answer the following:\\na) What is Hive?\\nb) (D Write the create table statement for hive external table. (ii) Write the optimization\\ntechniques that are available in Hive for its performance enhancement.\\n5+5+5: 15\\n4. Answer the following:\\na) What is HBASE?\\nb) (D Explain the components of a HBASE table. (ii) Distinguish between: Row oriented and\\nColumn oriented database.\\n5+5+5: 15\\n5\" Answer the following:\\na) What is ETL? \"Hive is a data warehouse based on Hadoop\". Explain this concept.\\nb) (D We can create two types of tables in Hive. What are these types? Write the difference\\nbetween both types of hive tables. (ii) Briefly describe the components used in Apache Pig.\\n5+5+5: 15\\n6. Write short note. (Any 3)\\na) Resource Manager in YARN\\nb) Rack Awareness\\nc) Apache Pig Vs Map Reduce\\nd) Bucket in Hive\\ne) Zookeeper\\n5x3:15\\n\\'t *€,1. *. *\\'lc * * :F * * * * * :r * * * * * {<,r * ALL THE BEST* * :r * * :F * * *\\'r * * * * * *')]"
      ]
     },
     "execution_count": 22,
     "metadata": {},
     "output_type": "execute_result"
    }
   ],
   "source": [
    "from langchain_community.document_loaders import PyPDFLoader\n",
    "loader=PyPDFLoader(\"data/Bigdata.pdf\")\n",
    "loaded_data=loader.load_and_split()\n",
    "loaded_data "
   ]
  },
  {
   "cell_type": "code",
   "execution_count": 23,
   "id": "2ab3f3ab",
   "metadata": {},
   "outputs": [
    {
     "data": {
      "text/plain": [
       "\"Assam Kaziranga University\\nEven-End Semester Examination : May - June 2024\\nSemester: 6'hProgramme: B.Tech\\n''' Course Code: ET13110\\nTime: 3 hours\\nBranch/Stream: CSE\\nCourse Name: Bigdata\\nTotal Marks: 70\\nPART - A: Question no. I is compulsory and carries l0 marks.\\nPART-B: Answer any 4 questions from question no.2 to 6. Each question carries 15 marks.\\nPART - A\\nl. Answer the following: 1 x l0 : l0\\ni) What is a data lake?\\nii) What is a JDBC driver in Hive?\\niii) Which of the following stores metadata?\\na) Data Node\\nb) Name Node\\nc) Secondary datanode\\nd)Hadoop cluster\\niv) HDFS performs replication, although it results in data redundancy?\\na) TRUE\\nb) FALSE\\nv) Which default database is used by Hive for its meta store?\\nvi) What happens if number of reducers is 0 in Hadoop?\\na) Map-only job take place\\nb) Reducer output will be the final output\\nc) Reduce-only job take place\\nd)RecordWritter will execute.\\nvii) which kind of keys (CONSTRAINTS) Hive does not have?\\na) Primary Keys\\nb) Foreign Keys\\nc) Unique Keys\\nd) All of the above\\nviii) By default, when a database is dropped in Hive-\\na) The tables are also deleted\\nb) The directory is deleted if there are no tables\""
      ]
     },
     "execution_count": 23,
     "metadata": {},
     "output_type": "execute_result"
    }
   ],
   "source": [
    "loaded_data[0].page_content"
   ]
  },
  {
   "cell_type": "markdown",
   "id": "053e587a",
   "metadata": {},
   "source": [
    "## wikipedia data load"
   ]
  },
  {
   "cell_type": "code",
   "execution_count": 29,
   "id": "b337b908",
   "metadata": {},
   "outputs": [
    {
     "data": {
      "text/plain": [
       "'Cricket is a bat-and-ball game that is played between two teams of eleven players on a field, at the centre of which is a 22-yard (20-metre; 66-foot) pitch with a wicket at each end, each comprising two bails (small sticks) balanced on three stumps. Two players from the batting team, the striker and nonstriker, stand in front of either wicket holding bats, while one player from the fielding team, the bowler, bowls the ball toward the striker\\'s wicket from the opposite end of the pitch. The striker\\'s goal is to hit the bowled ball with the bat and then switch places with the nonstriker, with the batting team scoring one run for each of these swaps. Runs are also scored when the ball reaches the boundary of the field or when the ball is bowled illegally.\\nThe fielding team aims to prevent runs by dismissing batters (so they are \"out\"). Dismissal can occur in various ways, including being bowled (when the ball hits the striker\\'s wicket and dislodges the bails), and by the fielding side either catching the ball after it is hit by the bat but before it hits the ground, or hitting a wicket with the ball before a batter can cross the crease line in front of the wicket. When ten batters have been dismissed, the innings (playing phase) ends and the teams swap roles. Forms of cricket range from traditional Test matches played over five days to the newer Twenty20 format (also known as T20), in which each team bats for a single innings of 20 overs (each \"over\" being a set of 6 fair opportunities for the batting team to score) and the game generally lasts three to four hours.\\nTraditionally, cricketers play in all-white kit, but in limited overs cricket, they wear club or team colours. In addition to the basic kit, some players wear protective gear to prevent injury caused by the ball, which is a hard, solid spheroid made of compressed leather with a slightly raised sewn seam enclosing a cork core layered with tightly wound string.\\nThe earliest known definite reference to cricket is to it being played in South East England in the mid-16th century. It spread globally with the expansion of the British Empire, with the first international matches in the second half of the 19th century. The game\\'s governing body is the International Cricket Council (ICC), which has over 100 members, twelve of which are full members who play Test matches. The game\\'s rules, the Laws of Cricket, are maintained by Marylebone Cricket Club (MCC) in London. The sport is followed primarily in South Asia, Australia, New Zealand, the United Kingdom, Southern Africa, and the West Indies.\\nWhile traditionally, cricket has largely been played by men, women\\'s cricket has experienced large growth in the 21st century.\\nThe most successful side playing international cricket is Australia, which has won eight One Day International trophies, including six World Cups, more than any other country, and has been the top-rated Test side more than any other country.\\n\\n\\n== History ==\\n\\n\\n=== Origins ===\\n\\nCricket is one of many games in the \"club ball\" sphere that involve hitting a ball with a hand-held implement. Others include baseball (which shares many similarities with cricket, both belonging in the more specific bat-and-ball games category), golf, hockey, tennis, squash, badminton and table tennis. In cricket\\'s case, a key difference is the existence of a solid target structure, the wicket (originally, it is thought, a \"wicket gate\" through which sheep were herded), that the batter must defend. The cricket historian Harry Altham identified three \"groups\" of \"club ball\" games: the \"hockey group\", in which the ball is driven to and from between two targets (the goals); the \"golf group\", in which the ball is driven towards an undefended target (the hole); and the \"cricket group\", in which \"the ball is aimed at a mark (the wicket) and driven away from it\".\\nIt is generally believed that cricket originated as a children\\'s game in the south-eastern counties of England, sometime during the mediev'"
      ]
     },
     "execution_count": 29,
     "metadata": {},
     "output_type": "execute_result"
    }
   ],
   "source": [
    "from langchain_community.document_loaders import WikipediaLoader\n",
    "loader=WikipediaLoader(query=\"Cricket\", load_max_docs=1)\n",
    "loaded_data=loader.load()[0].page_content\n",
    "loaded_data"
   ]
  },
  {
   "cell_type": "code",
   "execution_count": 31,
   "id": "cee04000",
   "metadata": {},
   "outputs": [
    {
     "name": "stdout",
     "output_type": "stream",
     "text": [
      "The country that plays cricket the most is India. Cricket is the national game of England.\n"
     ]
    }
   ],
   "source": [
    "from langchain_core.prompts import ChatPromptTemplate\n",
    "chat_template = ChatPromptTemplate.from_messages(\n",
    "  [\n",
    "    (\"human\",\"answer this{question}, here is the extra{context}\")\n",
    "  ]\n",
    ")\n",
    "messages= chat_template.format_messages(\n",
    " name=\"Cricket\",\n",
    " question=\"which country playes the cricket most and it is national game of whihc country?\",\n",
    " context=\"loaded_data\" \n",
    ")\n",
    "res = chatModel.invoke(messages)\n",
    "print (res.content)"
   ]
  }
 ],
 "metadata": {
  "kernelspec": {
   "display_name": "llmapp",
   "language": "python",
   "name": "python3"
  },
  "language_info": {
   "codemirror_mode": {
    "name": "ipython",
    "version": 3
   },
   "file_extension": ".py",
   "mimetype": "text/x-python",
   "name": "python",
   "nbconvert_exporter": "python",
   "pygments_lexer": "ipython3",
   "version": "3.11.13"
  }
 },
 "nbformat": 4,
 "nbformat_minor": 5
}
