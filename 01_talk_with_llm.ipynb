{
 "cells": [
  {
   "cell_type": "code",
   "execution_count": 44,
   "id": "ea8b0412",
   "metadata": {},
   "outputs": [
    {
     "name": "stdout",
     "output_type": "stream",
     "text": [
      "ok\n"
     ]
    }
   ],
   "source": [
    "print(\"ok\")"
   ]
  },
  {
   "cell_type": "code",
   "execution_count": 45,
   "id": "8d04d81c",
   "metadata": {},
   "outputs": [],
   "source": [
    "import os\n",
    "from dotenv import load_dotenv, find_dotenv\n",
    "_ = load_dotenv(find_dotenv())\n",
    "openai_api_key=os.environ[\"OPENAI_API_KEY\"]"
   ]
  },
  {
   "cell_type": "markdown",
   "id": "94207e40",
   "metadata": {},
   "source": [
    "# Completion model"
   ]
  },
  {
   "cell_type": "code",
   "execution_count": 46,
   "id": "e072e9ce",
   "metadata": {},
   "outputs": [],
   "source": [
    "\n",
    "\n",
    "from langchain_openai import OpenAI\n",
    "llmModel= OpenAI()"
   ]
  },
  {
   "cell_type": "code",
   "execution_count": 47,
   "id": "0f5d9359",
   "metadata": {},
   "outputs": [
    {
     "data": {
      "text/plain": [
       "'\\n\\nOne fact about the Kennedy family is that they are one of the most prominent political families in American history, with multiple members serving as presidents, senators, and other high-ranking government officials.'"
      ]
     },
     "execution_count": 47,
     "metadata": {},
     "output_type": "execute_result"
    }
   ],
   "source": [
    "llmModel.invoke(\"tell me one fact about the kennedy family.\")"
   ]
  },
  {
   "cell_type": "code",
   "execution_count": 48,
   "id": "70faac07",
   "metadata": {},
   "outputs": [],
   "source": [
    "response=llmModel.invoke(\"who is pm of india?\")"
   ]
  },
  {
   "cell_type": "code",
   "execution_count": 49,
   "id": "424bed39",
   "metadata": {},
   "outputs": [
    {
     "name": "stdout",
     "output_type": "stream",
     "text": [
      "\n",
      "\n",
      "As of September 2021, the Prime Minister of India is Narendra Modi.\n"
     ]
    }
   ],
   "source": [
    "print(response)"
   ]
  },
  {
   "cell_type": "code",
   "execution_count": 50,
   "id": "13d5ac4a",
   "metadata": {},
   "outputs": [],
   "source": [
    "creativellmModel=OpenAI(temperature=0.9)\n",
    "response=creativellmModel.invoke(\"tell me one fact about the kennedy family\")"
   ]
  },
  {
   "cell_type": "code",
   "execution_count": 51,
   "id": "d6589186",
   "metadata": {},
   "outputs": [
    {
     "name": "stdout",
     "output_type": "stream",
     "text": [
      "\n",
      "\n",
      "The Kennedy family is one of the most prominent and influential political families in American history, with several members serving as U.S. presidents, senators, and other political positions.\n"
     ]
    }
   ],
   "source": [
    "print(response)"
   ]
  },
  {
   "cell_type": "code",
   "execution_count": 52,
   "id": "de0d7924",
   "metadata": {},
   "outputs": [],
   "source": [
    "response=llmModel.invoke(\"write a cute poem about the nature\")\n"
   ]
  },
  {
   "cell_type": "code",
   "execution_count": 53,
   "id": "dc9acddc",
   "metadata": {},
   "outputs": [
    {
     "name": "stdout",
     "output_type": "stream",
     "text": [
      "\n",
      "\n",
      "Oh sweet nature, how you delight\n",
      "With your colors so vibrant and bright\n",
      "From the sky above to the earth below\n",
      "Your beauty never fails to show\n",
      "\n",
      "The sun shines down upon your face\n",
      "As creatures scurry in their own pace\n",
      "The birds sing melodies so pure\n",
      "As the flowers bloom and endure\n",
      "\n",
      "The trees stand tall with branches spread\n",
      "Providing shelter for creatures to tread\n",
      "The gentle breeze whispers through\n",
      "As it rustles the leaves and flowers too\n",
      "\n",
      "Butterflies dance with grace and ease\n",
      "Amongst the buzzing of the busy bees\n",
      "The rivers flow with a gentle roar\n",
      "As the mountains stand tall and soar\n",
      "\n",
      "Oh nature, you are a wondrous sight\n",
      "Bringing joy and wonder day and night\n",
      "In your arms, we find peace and rest\n",
      "For you are truly nature's best\n",
      "\n",
      "So let us cherish and protect you\n",
      "For you provide us with all that's true\n",
      "Oh sweet nature, we love you so\n",
      "With you, our hearts will forever glow.\n"
     ]
    }
   ],
   "source": [
    "print(response)"
   ]
  },
  {
   "cell_type": "markdown",
   "id": "624b3b7e",
   "metadata": {},
   "source": [
    "# CHAT MODEL"
   ]
  },
  {
   "cell_type": "code",
   "execution_count": 54,
   "id": "db73ae56",
   "metadata": {},
   "outputs": [],
   "source": [
    "from langchain_openai import ChatOpenAI\n",
    "chatModel = ChatOpenAI(model=\"gpt-3.5-turbo-0125\")"
   ]
  },
  {
   "cell_type": "code",
   "execution_count": 55,
   "id": "3b47a62d",
   "metadata": {},
   "outputs": [],
   "source": [
    "messages=[\n",
    "(\"system\", \"you are an historian expert in the kennedy family.\"),\n",
    "(\"human\",\"tell me one curious thing about jfk\"),\n",
    "]\n",
    "response = chatModel.invoke(messages)"
   ]
  },
  {
   "cell_type": "code",
   "execution_count": 56,
   "id": "d996cc91",
   "metadata": {},
   "outputs": [
    {
     "name": "stdout",
     "output_type": "stream",
     "text": [
      "content='One curious thing about John F. Kennedy is that he won a Pulitzer Prize in 1957 for his book \"Profiles in Courage,\" which was actually ghostwritten by his speechwriter, Theodore Sorensen. Despite this controversy, the book is still regarded as a significant work in American political history.' response_metadata={'token_usage': {'completion_tokens': 61, 'prompt_tokens': 30, 'total_tokens': 91, 'completion_tokens_details': {'accepted_prediction_tokens': 0, 'audio_tokens': 0, 'reasoning_tokens': 0, 'rejected_prediction_tokens': 0}, 'prompt_tokens_details': {'audio_tokens': 0, 'cached_tokens': 0}}, 'model_name': 'gpt-3.5-turbo-0125', 'system_fingerprint': None, 'finish_reason': 'stop', 'logprobs': None} id='run-0f229602-df5b-4958-a805-7a58396c070c-0' usage_metadata={'input_tokens': 30, 'output_tokens': 61, 'total_tokens': 91}\n"
     ]
    }
   ],
   "source": [
    "print(response)"
   ]
  },
  {
   "cell_type": "code",
   "execution_count": 57,
   "id": "74e1f750",
   "metadata": {},
   "outputs": [
    {
     "data": {
      "text/plain": [
       "AIMessage(content='One curious thing about John F. Kennedy is that he won a Pulitzer Prize in 1957 for his book \"Profiles in Courage,\" which was actually ghostwritten by his speechwriter, Theodore Sorensen. Despite this controversy, the book is still regarded as a significant work in American political history.', response_metadata={'token_usage': {'completion_tokens': 61, 'prompt_tokens': 30, 'total_tokens': 91, 'completion_tokens_details': {'accepted_prediction_tokens': 0, 'audio_tokens': 0, 'reasoning_tokens': 0, 'rejected_prediction_tokens': 0}, 'prompt_tokens_details': {'audio_tokens': 0, 'cached_tokens': 0}}, 'model_name': 'gpt-3.5-turbo-0125', 'system_fingerprint': None, 'finish_reason': 'stop', 'logprobs': None}, id='run-0f229602-df5b-4958-a805-7a58396c070c-0', usage_metadata={'input_tokens': 30, 'output_tokens': 61, 'total_tokens': 91})"
      ]
     },
     "execution_count": 57,
     "metadata": {},
     "output_type": "execute_result"
    }
   ],
   "source": [
    "response\n"
   ]
  },
  {
   "cell_type": "code",
   "execution_count": 58,
   "id": "cdb56550",
   "metadata": {},
   "outputs": [
    {
     "data": {
      "text/plain": [
       "'One curious thing about John F. Kennedy is that he won a Pulitzer Prize in 1957 for his book \"Profiles in Courage,\" which was actually ghostwritten by his speechwriter, Theodore Sorensen. Despite this controversy, the book is still regarded as a significant work in American political history.'"
      ]
     },
     "execution_count": 58,
     "metadata": {},
     "output_type": "execute_result"
    }
   ],
   "source": [
    "response.content"
   ]
  },
  {
   "cell_type": "code",
   "execution_count": 59,
   "id": "3e318f80",
   "metadata": {},
   "outputs": [
    {
     "data": {
      "text/plain": [
       "{'token_usage': {'completion_tokens': 61,\n",
       "  'prompt_tokens': 30,\n",
       "  'total_tokens': 91,\n",
       "  'completion_tokens_details': {'accepted_prediction_tokens': 0,\n",
       "   'audio_tokens': 0,\n",
       "   'reasoning_tokens': 0,\n",
       "   'rejected_prediction_tokens': 0},\n",
       "  'prompt_tokens_details': {'audio_tokens': 0, 'cached_tokens': 0}},\n",
       " 'model_name': 'gpt-3.5-turbo-0125',\n",
       " 'system_fingerprint': None,\n",
       " 'finish_reason': 'stop',\n",
       " 'logprobs': None}"
      ]
     },
     "execution_count": 59,
     "metadata": {},
     "output_type": "execute_result"
    }
   ],
   "source": [
    "response.response_metadata"
   ]
  },
  {
   "cell_type": "code",
   "execution_count": 60,
   "id": "0038172f",
   "metadata": {},
   "outputs": [],
   "source": [
    "# wgere you see this :\n",
    "llm = ChatOpenAI(model=\"gpt-3.5-turbo\")\n",
    " \n",
    " #write this instead:\n",
    "llm=ChatOpenAI(model=\"gpt-4o-mini\")"
   ]
  },
  {
   "cell_type": "markdown",
   "id": "897ebd7c",
   "metadata": {},
   "source": [
    "# Old langchain"
   ]
  },
  {
   "cell_type": "code",
   "execution_count": 61,
   "id": "c97f07a3",
   "metadata": {},
   "outputs": [],
   "source": [
    "from langchain_core.messages import HumanMessage, SystemMessage\n",
    "from langchain_core.prompts import ChatPromptTemplate"
   ]
  },
  {
   "cell_type": "code",
   "execution_count": null,
   "id": "8924991d",
   "metadata": {},
   "outputs": [],
   "source": [
    "messages=[\n",
    "  SystemMessage(content=\"you are an historian expert on the kennedy Family.\"),\n",
    "  HumanMessage(content=\"how many children had joseph p. kennedy?\"),\n",
    "]\n",
    "\n",
    "response=chatModel.invoke(messages)"
   ]
  },
  {
   "cell_type": "code",
   "execution_count": 62,
   "id": "206ba4d7",
   "metadata": {},
   "outputs": [
    {
     "data": {
      "text/plain": [
       "AIMessage(content='One curious thing about John F. Kennedy is that he won a Pulitzer Prize in 1957 for his book \"Profiles in Courage,\" which was actually ghostwritten by his speechwriter, Theodore Sorensen. Despite this controversy, the book is still regarded as a significant work in American political history.', response_metadata={'token_usage': {'completion_tokens': 61, 'prompt_tokens': 30, 'total_tokens': 91, 'completion_tokens_details': {'accepted_prediction_tokens': 0, 'audio_tokens': 0, 'reasoning_tokens': 0, 'rejected_prediction_tokens': 0}, 'prompt_tokens_details': {'audio_tokens': 0, 'cached_tokens': 0}}, 'model_name': 'gpt-3.5-turbo-0125', 'system_fingerprint': None, 'finish_reason': 'stop', 'logprobs': None}, id='run-0f229602-df5b-4958-a805-7a58396c070c-0', usage_metadata={'input_tokens': 30, 'output_tokens': 61, 'total_tokens': 91})"
      ]
     },
     "execution_count": 62,
     "metadata": {},
     "output_type": "execute_result"
    }
   ],
   "source": [
    "response"
   ]
  },
  {
   "cell_type": "markdown",
   "id": "7fbe553d",
   "metadata": {},
   "source": [
    "# alternative llm"
   ]
  },
  {
   "cell_type": "code",
   "execution_count": 63,
   "id": "d8cd57bf",
   "metadata": {},
   "outputs": [],
   "source": [
    "import os\n",
    "from dotenv import load_dotenv, find_dotenv\n",
    "_ = load_dotenv(find_dotenv())"
   ]
  },
  {
   "cell_type": "code",
   "execution_count": 65,
   "id": "5097e930",
   "metadata": {},
   "outputs": [],
   "source": [
    "from langchain_groq import ChatGroq\n",
    "llamaChatModel = ChatGroq(\n",
    "  model=\"llama3-70b-8192\"\n",
    ")"
   ]
  },
  {
   "cell_type": "code",
   "execution_count": 76,
   "id": "c57d3543",
   "metadata": {},
   "outputs": [],
   "source": [
    "mistralChatModel = ChatGroq(\n",
    "  model=\"mixtral-8x7b-32768\"\n",
    ")"
   ]
  },
  {
   "cell_type": "code",
   "execution_count": 68,
   "id": "9f2aed09",
   "metadata": {},
   "outputs": [],
   "source": [
    "messages=[\n",
    "(\"system\", \"you are an historian expert in the kennedy family.\"),\n",
    "(\"human\",\"tell me one curious thing about jfk\"),\n",
    "]"
   ]
  },
  {
   "cell_type": "code",
   "execution_count": 69,
   "id": "4dc77f70",
   "metadata": {},
   "outputs": [],
   "source": [
    "llamaResponse = llamaChatModel.invoke(messages)"
   ]
  },
  {
   "cell_type": "code",
   "execution_count": 71,
   "id": "5381acae",
   "metadata": {},
   "outputs": [
    {
     "name": "stdout",
     "output_type": "stream",
     "text": [
      "As an historian expert in the Kennedy family, I have come across many fascinating facts about John F. Kennedy, but here's one curious thing that always catches my attention:\n",
      "\n",
      "Did you know that JFK was a prolific writer and won a Pulitzer Prize for his book \"Profiles in Courage\"?\n",
      "\n",
      "In 1957, Senator John F. Kennedy wrote \"Profiles in Courage,\" a book that tells the stories of eight U.S. senators who took unpopular stands on crucial issues, often at great personal cost. The book was a surprise bestseller and won the Pulitzer Prize for Biography in 1957.\n",
      "\n",
      "What's even more remarkable is that Kennedy wrote the book while recovering from back surgery, and much of the research was done by his research assistants, including Ted Sorensen, who would later become his speechwriter in the White House. Despite this, Kennedy's own writing style and perspective shine through in the book, which is still widely read and admired today.\n",
      "\n",
      "It's a testament to Kennedy's intellectual curiosity, his passion for history, and his commitment to public service that he would take the time to write such a thoughtful and well-researched book, even while dealing with personal health issues. And, of course, the Pulitzer Prize was a nice bonus!\n"
     ]
    }
   ],
   "source": [
    "print(llamaResponse.content)"
   ]
  }
 ],
 "metadata": {
  "kernelspec": {
   "display_name": "llmapp",
   "language": "python",
   "name": "python3"
  },
  "language_info": {
   "codemirror_mode": {
    "name": "ipython",
    "version": 3
   },
   "file_extension": ".py",
   "mimetype": "text/x-python",
   "name": "python",
   "nbconvert_exporter": "python",
   "pygments_lexer": "ipython3",
   "version": "3.11.13"
  }
 },
 "nbformat": 4,
 "nbformat_minor": 5
}
